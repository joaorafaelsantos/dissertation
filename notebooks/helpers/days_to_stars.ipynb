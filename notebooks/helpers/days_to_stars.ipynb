{
 "cells": [
  {
   "cell_type": "code",
   "execution_count": 12,
   "id": "ad24a7fa-a02e-4f4d-b67f-ee46946e9ac0",
   "metadata": {},
   "outputs": [],
   "source": [
    "import json\n",
    "from datetime import datetime\n",
    "import numpy as np"
   ]
  },
  {
   "cell_type": "code",
   "execution_count": 72,
   "id": "64f4a4aa-4cd5-4aa9-a25f-f30ec7c6fb4c",
   "metadata": {},
   "outputs": [
    {
     "name": "stdout",
     "output_type": "stream",
     "text": [
      "6252.0\n",
      "1605.0\n"
     ]
    }
   ],
   "source": [
    "days = []\n",
    "stars = []\n",
    "forks = []\n",
    "\n",
    "with open (\"../../data/final/aspnetcore.json\") as file:\n",
    "    events = json.load(file)\n",
    "    created_date = datetime.strptime(events[0][\"date\"], \"%Y-%m-%d\")\n",
    "    for event in events:\n",
    "        current_date = datetime.strptime(event[\"date\"], \"%Y-%m-%d\")\n",
    "        days.append((current_date - created_date).days)\n",
    "        stars.append(event[\"stargazers\"])\n",
    "        forks.append(event[\"forks\"])\n",
    "\n",
    "x_value = \"\"\n",
    "y_value = np.interp(1245, days, stars)\n",
    "y_value2 = np.interp(1245, days, forks)\n",
    "print(np.rint(y_value))\n",
    "print(np.rint(y_value2))"
   ]
  },
  {
   "cell_type": "code",
   "execution_count": null,
   "id": "1fc36722-4bab-4604-b187-ad90d57b2f3a",
   "metadata": {},
   "outputs": [],
   "source": []
  },
  {
   "cell_type": "code",
   "execution_count": null,
   "id": "b26155ab-22d8-4dc8-b2d1-71b727b51261",
   "metadata": {},
   "outputs": [],
   "source": []
  }
 ],
 "metadata": {
  "kernelspec": {
   "display_name": "Python 3",
   "language": "python",
   "name": "python3"
  },
  "language_info": {
   "codemirror_mode": {
    "name": "ipython",
    "version": 3
   },
   "file_extension": ".py",
   "mimetype": "text/x-python",
   "name": "python",
   "nbconvert_exporter": "python",
   "pygments_lexer": "ipython3",
   "version": "3.8.2"
  }
 },
 "nbformat": 4,
 "nbformat_minor": 5
}
