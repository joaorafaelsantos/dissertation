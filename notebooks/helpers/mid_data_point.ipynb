{
 "cells": [
  {
   "cell_type": "code",
   "execution_count": 1,
   "metadata": {},
   "outputs": [],
   "source": [
    "from datetime import datetime"
   ]
  },
  {
   "cell_type": "code",
   "execution_count": 3,
   "metadata": {},
   "outputs": [
    {
     "name": "stdout",
     "output_type": "stream",
     "text": [
      "2017-02-07 12:00:00\n"
     ]
    }
   ],
   "source": [
    "first_data_point = datetime.strptime(\"2016-09-09\", \"%Y-%m-%d\")\n",
    "last_data_point = datetime.strptime(\"2017-07-09\", \"%Y-%m-%d\")\n",
    "mid_data_point = first_data_point + (last_data_point - first_data_point)/2\n",
    "print(mid_data_point)\n"
   ]
  }
 ],
 "metadata": {
  "interpreter": {
   "hash": "46ff5104d0aae09286d34f028b3df7ca60284899dd871176088c4822ef5a3226"
  },
  "kernelspec": {
   "display_name": "Python 3.8.2 64-bit",
   "name": "python3"
  },
  "language_info": {
   "codemirror_mode": {
    "name": "ipython",
    "version": 3
   },
   "file_extension": ".py",
   "mimetype": "text/x-python",
   "name": "python",
   "nbconvert_exporter": "python",
   "pygments_lexer": "ipython3",
   "version": "3.8.2"
  },
  "orig_nbformat": 2
 },
 "nbformat": 4,
 "nbformat_minor": 2
}