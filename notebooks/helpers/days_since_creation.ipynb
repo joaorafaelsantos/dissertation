{
 "cells": [
  {
   "cell_type": "code",
   "execution_count": 2,
   "id": "29e446f1",
   "metadata": {},
   "outputs": [],
   "source": [
    "from datetime import datetime"
   ]
  },
  {
   "cell_type": "code",
   "execution_count": 6,
   "id": "76a8bbdf",
   "metadata": {},
   "outputs": [
    {
     "name": "stdout",
     "output_type": "stream",
     "text": [
      "727\n"
     ]
    }
   ],
   "source": [
    "creation_date = datetime.strptime(\"2013-05-24\", \"%Y-%m-%d\")\n",
    "\n",
    "analyzed_date = datetime.strptime(\"2015-05-21\", \"%Y-%m-%d\")\n",
    "print((analyzed_date - creation_date).days)"
   ]
  },
  {
   "cell_type": "code",
   "execution_count": null,
   "id": "5f87f075",
   "metadata": {},
   "outputs": [],
   "source": []
  }
 ],
 "metadata": {
  "kernelspec": {
   "display_name": "Python 3",
   "language": "python",
   "name": "python3"
  },
  "language_info": {
   "codemirror_mode": {
    "name": "ipython",
    "version": 3
   },
   "file_extension": ".py",
   "mimetype": "text/x-python",
   "name": "python",
   "nbconvert_exporter": "python",
   "pygments_lexer": "ipython3",
   "version": "3.8.2"
  }
 },
 "nbformat": 4,
 "nbformat_minor": 5
}
