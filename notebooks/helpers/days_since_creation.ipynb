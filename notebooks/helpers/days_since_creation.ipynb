{
 "cells": [
  {
   "cell_type": "code",
   "execution_count": 4,
   "metadata": {},
   "outputs": [],
   "source": [
    "from datetime import datetime"
   ]
  },
  {
   "cell_type": "code",
   "execution_count": 5,
   "metadata": {},
   "outputs": [
    {
     "name": "stdout",
     "output_type": "stream",
     "text": [
      "107\n",
      "804\n",
      "977\n",
      "1163\n",
      "1499\n",
      "1665\n",
      "1832\n",
      "1998\n",
      "2165\n",
      "2332\n",
      "2499\n",
      "2832\n"
     ]
    }
   ],
   "source": [
    "creation_date = datetime.strptime(\"2013-07-29\", \"%Y-%m-%d\")\n",
    "analyzed_dates = [\"2013-11-13\", \"2015-10-11\", \"2016-04-01\", \"2016-10-04\", \"2017-09-05\", \"2018-02-18\", \"2018-08-04\", \"2019-01-17\", \"2019-07-03\", \"2019-12-17\", \"2020-06-01\", \"2021-04-30\"]\n",
    "\n",
    "for analyzed_date in analyzed_dates:\n",
    "    analyzed_date = datetime.strptime(analyzed_date, \"%Y-%m-%d\")\n",
    "    print((analyzed_date - creation_date).days)"
   ]
  },
  {
   "cell_type": "code",
   "execution_count": null,
   "metadata": {},
   "outputs": [],
   "source": []
  }
 ],
 "metadata": {
  "language_info": {},
  "orig_nbformat": 3
 },
 "nbformat": 4,
 "nbformat_minor": 5
}